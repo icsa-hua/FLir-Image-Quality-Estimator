{
 "cells": [
  {
   "cell_type": "code",
   "execution_count": 1,
   "id": "e403d310",
   "metadata": {},
   "outputs": [],
   "source": [
    "import matplotlib.pyplot as plt\n",
    "from sklearn.metrics import precision_score, recall_score, f1_score\n",
    "from IPython.display import clear_output\n",
    "\n",
    "# Initialize lists to store losses\n",
    "train_losses = []\n",
    "eval_losses = []\n",
    "\n",
    "def plot_losses(train_losses, val_losses):\n",
    "    clear_output(wait=True)  # Clears previous plot\n",
    "    plt.figure(figsize=(8,5))\n",
    "    plt.plot(train_losses, label=\"Training Loss\")\n",
    "    plt.plot(val_losses, label=\"Validation Loss\")\n",
    "    plt.xlabel(\"Epoch\")\n",
    "    plt.ylabel(\"Loss\")\n",
    "    plt.title(\"Training vs Validation Loss\")\n",
    "    plt.legend()\n",
    "    plt.grid(True)\n",
    "    plt.show()"
   ]
  },
  {
   "cell_type": "code",
   "execution_count": null,
   "id": "0f0fbede",
   "metadata": {},
   "outputs": [
    {
     "name": "stdout",
     "output_type": "stream",
     "text": [
      "2.8.0+cu129\n",
      "True\n",
      "12.9\n",
      "91002\n",
      "Using device: cuda\n",
      "Total images found: 80670\n",
      "Train Dataset length: 64536\n",
      "Eval Dataset length: 16134\n"
     ]
    },
    {
     "name": "stderr",
     "output_type": "stream",
     "text": [
      "                                                                   \r"
     ]
    },
    {
     "name": "stdout",
     "output_type": "stream",
     "text": [
      "~~~~~~~~~~~ Epoch 1 ~~~~~~~~~~~\n",
      "⚠️ Encoder Changed\n",
      "Training Loss: 0.3690\n"
     ]
    },
    {
     "name": "stderr",
     "output_type": "stream",
     "text": [
      "                                                               \r"
     ]
    },
    {
     "name": "stdout",
     "output_type": "stream",
     "text": [
      "Eval Loss: 0.3070\n",
      "Accuracy: 0.8724, Precision: 0.9056, Recall: 0.7970, F1-score: 0.8478\n",
      "✅ Saved Best Model with Eval Loss: 0.3070\n",
      "~~~~~~~~~~~~~~~~~~~~~~~~~~~~~~~~~\n"
     ]
    },
    {
     "name": "stderr",
     "output_type": "stream",
     "text": [
      "                                                                   \r"
     ]
    },
    {
     "name": "stdout",
     "output_type": "stream",
     "text": [
      "~~~~~~~~~~~ Epoch 2 ~~~~~~~~~~~\n",
      "⚠️ Encoder Changed\n",
      "Training Loss: 0.3221\n"
     ]
    },
    {
     "name": "stderr",
     "output_type": "stream",
     "text": [
      "                                                               \r"
     ]
    },
    {
     "name": "stdout",
     "output_type": "stream",
     "text": [
      "Eval Loss: 0.2791\n",
      "Accuracy: 0.8845, Precision: 0.9101, Recall: 0.8218, F1-score: 0.8637\n",
      "✅ Saved Best Model with Eval Loss: 0.2791\n",
      "~~~~~~~~~~~~~~~~~~~~~~~~~~~~~~~~~\n"
     ]
    },
    {
     "name": "stderr",
     "output_type": "stream",
     "text": [
      "                                                                   \r"
     ]
    },
    {
     "name": "stdout",
     "output_type": "stream",
     "text": [
      "~~~~~~~~~~~ Epoch 3 ~~~~~~~~~~~\n",
      "⚠️ Encoder Changed\n",
      "Training Loss: 0.3088\n"
     ]
    },
    {
     "name": "stderr",
     "output_type": "stream",
     "text": [
      "                                                               \r"
     ]
    },
    {
     "name": "stdout",
     "output_type": "stream",
     "text": [
      "Eval Loss: 0.2707\n",
      "Accuracy: 0.8905, Precision: 0.8978, Recall: 0.8520, F1-score: 0.8743\n",
      "✅ Saved Best Model with Eval Loss: 0.2707\n",
      "~~~~~~~~~~~~~~~~~~~~~~~~~~~~~~~~~\n"
     ]
    },
    {
     "name": "stderr",
     "output_type": "stream",
     "text": [
      "                                                                   \r"
     ]
    },
    {
     "name": "stdout",
     "output_type": "stream",
     "text": [
      "~~~~~~~~~~~ Epoch 4 ~~~~~~~~~~~\n",
      "⚠️ Encoder Changed\n",
      "Training Loss: 0.2953\n"
     ]
    },
    {
     "name": "stderr",
     "output_type": "stream",
     "text": [
      "                                                               \r"
     ]
    },
    {
     "name": "stdout",
     "output_type": "stream",
     "text": [
      "Eval Loss: 0.2517\n",
      "Accuracy: 0.9004, Precision: 0.9139, Recall: 0.8560, F1-score: 0.8840\n",
      "✅ Saved Best Model with Eval Loss: 0.2517\n",
      "~~~~~~~~~~~~~~~~~~~~~~~~~~~~~~~~~\n"
     ]
    },
    {
     "name": "stderr",
     "output_type": "stream",
     "text": [
      "                                                                   \r"
     ]
    },
    {
     "name": "stdout",
     "output_type": "stream",
     "text": [
      "~~~~~~~~~~~ Epoch 5 ~~~~~~~~~~~\n",
      "⚠️ Encoder Changed\n",
      "Training Loss: 0.2898\n"
     ]
    },
    {
     "name": "stderr",
     "output_type": "stream",
     "text": [
      "                                                               \r"
     ]
    },
    {
     "name": "stdout",
     "output_type": "stream",
     "text": [
      "Eval Loss: 0.2526\n",
      "Accuracy: 0.8991, Precision: 0.9266, Recall: 0.8376, F1-score: 0.8799\n",
      "⚠️ No improvement for 1/10 epochs.\n",
      "~~~~~~~~~~~~~~~~~~~~~~~~~~~~~~~~~\n"
     ]
    },
    {
     "name": "stderr",
     "output_type": "stream",
     "text": [
      "                                                                   \r"
     ]
    },
    {
     "name": "stdout",
     "output_type": "stream",
     "text": [
      "~~~~~~~~~~~ Epoch 6 ~~~~~~~~~~~\n",
      "⚠️ Encoder Changed\n",
      "Training Loss: 0.2793\n"
     ]
    },
    {
     "name": "stderr",
     "output_type": "stream",
     "text": [
      "                                                               \r"
     ]
    },
    {
     "name": "stdout",
     "output_type": "stream",
     "text": [
      "Eval Loss: 0.2508\n",
      "Accuracy: 0.9012, Precision: 0.9297, Recall: 0.8425, F1-score: 0.8839\n",
      "✅ Saved Best Model with Eval Loss: 0.2508\n",
      "~~~~~~~~~~~~~~~~~~~~~~~~~~~~~~~~~\n"
     ]
    },
    {
     "name": "stderr",
     "output_type": "stream",
     "text": [
      "                                                                   \r"
     ]
    },
    {
     "name": "stdout",
     "output_type": "stream",
     "text": [
      "~~~~~~~~~~~ Epoch 7 ~~~~~~~~~~~\n",
      "⚠️ Encoder Changed\n",
      "Training Loss: 0.2832\n"
     ]
    },
    {
     "name": "stderr",
     "output_type": "stream",
     "text": [
      "                                                               \r"
     ]
    },
    {
     "name": "stdout",
     "output_type": "stream",
     "text": [
      "Eval Loss: 0.2466\n",
      "Accuracy: 0.8998, Precision: 0.9126, Recall: 0.8565, F1-score: 0.8836\n",
      "✅ Saved Best Model with Eval Loss: 0.2466\n",
      "~~~~~~~~~~~~~~~~~~~~~~~~~~~~~~~~~\n"
     ]
    },
    {
     "name": "stderr",
     "output_type": "stream",
     "text": [
      "                                                                   \r"
     ]
    },
    {
     "name": "stdout",
     "output_type": "stream",
     "text": [
      "~~~~~~~~~~~ Epoch 8 ~~~~~~~~~~~\n",
      "⚠️ Encoder Changed\n",
      "Training Loss: 0.2724\n"
     ]
    },
    {
     "name": "stderr",
     "output_type": "stream",
     "text": [
      "                                                               \r"
     ]
    },
    {
     "name": "stdout",
     "output_type": "stream",
     "text": [
      "Eval Loss: 0.2304\n",
      "Accuracy: 0.9113, Precision: 0.9219, Recall: 0.8728, F1-score: 0.8967\n",
      "✅ Saved Best Model with Eval Loss: 0.2304\n",
      "~~~~~~~~~~~~~~~~~~~~~~~~~~~~~~~~~\n"
     ]
    },
    {
     "name": "stderr",
     "output_type": "stream",
     "text": [
      "                                                                   \r"
     ]
    },
    {
     "name": "stdout",
     "output_type": "stream",
     "text": [
      "~~~~~~~~~~~ Epoch 9 ~~~~~~~~~~~\n",
      "⚠️ Encoder Changed\n",
      "Training Loss: 0.2759\n"
     ]
    },
    {
     "name": "stderr",
     "output_type": "stream",
     "text": [
      "                                                               \r"
     ]
    },
    {
     "name": "stdout",
     "output_type": "stream",
     "text": [
      "Eval Loss: 0.2266\n",
      "Accuracy: 0.9109, Precision: 0.9282, Recall: 0.8652, F1-score: 0.8956\n",
      "✅ Saved Best Model with Eval Loss: 0.2266\n",
      "~~~~~~~~~~~~~~~~~~~~~~~~~~~~~~~~~\n"
     ]
    },
    {
     "name": "stderr",
     "output_type": "stream",
     "text": [
      "                                                                    \r"
     ]
    },
    {
     "name": "stdout",
     "output_type": "stream",
     "text": [
      "~~~~~~~~~~~ Epoch 10 ~~~~~~~~~~~\n",
      "⚠️ Encoder Changed\n",
      "Training Loss: 0.2685\n"
     ]
    },
    {
     "name": "stderr",
     "output_type": "stream",
     "text": [
      "                                                                \r"
     ]
    },
    {
     "name": "stdout",
     "output_type": "stream",
     "text": [
      "Eval Loss: 0.2254\n",
      "Accuracy: 0.9123, Precision: 0.9486, Recall: 0.8471, F1-score: 0.8949\n",
      "✅ Saved Best Model with Eval Loss: 0.2254\n",
      "~~~~~~~~~~~~~~~~~~~~~~~~~~~~~~~~~\n"
     ]
    },
    {
     "name": "stderr",
     "output_type": "stream",
     "text": [
      "                                                                    \r"
     ]
    },
    {
     "name": "stdout",
     "output_type": "stream",
     "text": [
      "~~~~~~~~~~~ Epoch 11 ~~~~~~~~~~~\n",
      "⚠️ Encoder Changed\n",
      "Training Loss: 0.2634\n"
     ]
    },
    {
     "name": "stderr",
     "output_type": "stream",
     "text": [
      "                                                                \r"
     ]
    },
    {
     "name": "stdout",
     "output_type": "stream",
     "text": [
      "Eval Loss: 0.2188\n",
      "Accuracy: 0.9158, Precision: 0.9394, Recall: 0.8657, F1-score: 0.9011\n",
      "✅ Saved Best Model with Eval Loss: 0.2188\n",
      "~~~~~~~~~~~~~~~~~~~~~~~~~~~~~~~~~\n"
     ]
    },
    {
     "name": "stderr",
     "output_type": "stream",
     "text": [
      "                                                                    \r"
     ]
    },
    {
     "name": "stdout",
     "output_type": "stream",
     "text": [
      "~~~~~~~~~~~ Epoch 12 ~~~~~~~~~~~\n",
      "⚠️ Encoder Changed\n",
      "Training Loss: 0.2666\n"
     ]
    },
    {
     "name": "stderr",
     "output_type": "stream",
     "text": [
      "                                                                \r"
     ]
    },
    {
     "name": "stdout",
     "output_type": "stream",
     "text": [
      "Eval Loss: 0.2218\n",
      "Accuracy: 0.9132, Precision: 0.9311, Recall: 0.8665, F1-score: 0.8977\n",
      "⚠️ No improvement for 1/10 epochs.\n",
      "~~~~~~~~~~~~~~~~~~~~~~~~~~~~~~~~~\n"
     ]
    },
    {
     "name": "stderr",
     "output_type": "stream",
     "text": [
      "                                                                    \r"
     ]
    },
    {
     "name": "stdout",
     "output_type": "stream",
     "text": [
      "~~~~~~~~~~~ Epoch 13 ~~~~~~~~~~~\n",
      "⚠️ Encoder Changed\n",
      "Training Loss: 0.2625\n"
     ]
    },
    {
     "name": "stderr",
     "output_type": "stream",
     "text": [
      "                                                                \r"
     ]
    },
    {
     "name": "stdout",
     "output_type": "stream",
     "text": [
      "Eval Loss: 0.2200\n",
      "Accuracy: 0.9141, Precision: 0.9413, Recall: 0.8560, F1-score: 0.8966\n",
      "⚠️ No improvement for 2/10 epochs.\n",
      "~~~~~~~~~~~~~~~~~~~~~~~~~~~~~~~~~\n"
     ]
    },
    {
     "name": "stderr",
     "output_type": "stream",
     "text": [
      "                                                                    \r"
     ]
    },
    {
     "name": "stdout",
     "output_type": "stream",
     "text": [
      "~~~~~~~~~~~ Epoch 14 ~~~~~~~~~~~\n",
      "⚠️ Encoder Changed\n",
      "Training Loss: 0.2599\n"
     ]
    },
    {
     "name": "stderr",
     "output_type": "stream",
     "text": [
      "                                                                \r"
     ]
    },
    {
     "name": "stdout",
     "output_type": "stream",
     "text": [
      "Eval Loss: 0.2069\n",
      "Accuracy: 0.9202, Precision: 0.9515, Recall: 0.8614, F1-score: 0.9042\n",
      "✅ Saved Best Model with Eval Loss: 0.2069\n",
      "~~~~~~~~~~~~~~~~~~~~~~~~~~~~~~~~~\n"
     ]
    },
    {
     "name": "stderr",
     "output_type": "stream",
     "text": [
      "                                                                    \r"
     ]
    },
    {
     "name": "stdout",
     "output_type": "stream",
     "text": [
      "~~~~~~~~~~~ Epoch 15 ~~~~~~~~~~~\n",
      "⚠️ Encoder Changed\n",
      "Training Loss: 0.2551\n"
     ]
    },
    {
     "name": "stderr",
     "output_type": "stream",
     "text": [
      "                                                                \r"
     ]
    },
    {
     "name": "stdout",
     "output_type": "stream",
     "text": [
      "Eval Loss: 0.2201\n",
      "Accuracy: 0.9113, Precision: 0.9247, Recall: 0.8705, F1-score: 0.8968\n",
      "⚠️ No improvement for 1/10 epochs.\n",
      "~~~~~~~~~~~~~~~~~~~~~~~~~~~~~~~~~\n"
     ]
    },
    {
     "name": "stderr",
     "output_type": "stream",
     "text": [
      "                                                                    \r"
     ]
    },
    {
     "name": "stdout",
     "output_type": "stream",
     "text": [
      "~~~~~~~~~~~ Epoch 16 ~~~~~~~~~~~\n",
      "⚠️ Encoder Changed\n",
      "Training Loss: 0.2552\n"
     ]
    },
    {
     "name": "stderr",
     "output_type": "stream",
     "text": [
      "                                                                \r"
     ]
    },
    {
     "name": "stdout",
     "output_type": "stream",
     "text": [
      "Eval Loss: 0.2142\n",
      "Accuracy: 0.9151, Precision: 0.9469, Recall: 0.8603, F1-score: 0.9015\n",
      "⚠️ No improvement for 2/10 epochs.\n",
      "~~~~~~~~~~~~~~~~~~~~~~~~~~~~~~~~~\n"
     ]
    },
    {
     "name": "stderr",
     "output_type": "stream",
     "text": [
      "                                                                    \r"
     ]
    },
    {
     "name": "stdout",
     "output_type": "stream",
     "text": [
      "~~~~~~~~~~~ Epoch 17 ~~~~~~~~~~~\n",
      "⚠️ Encoder Changed\n",
      "Training Loss: 0.2521\n"
     ]
    },
    {
     "name": "stderr",
     "output_type": "stream",
     "text": [
      "                                                                \r"
     ]
    },
    {
     "name": "stdout",
     "output_type": "stream",
     "text": [
      "Eval Loss: 0.2092\n",
      "Accuracy: 0.9193, Precision: 0.9315, Recall: 0.8828, F1-score: 0.9065\n",
      "⚠️ No improvement for 3/10 epochs.\n",
      "~~~~~~~~~~~~~~~~~~~~~~~~~~~~~~~~~\n"
     ]
    },
    {
     "name": "stderr",
     "output_type": "stream",
     "text": [
      "                                                                    \r"
     ]
    },
    {
     "name": "stdout",
     "output_type": "stream",
     "text": [
      "~~~~~~~~~~~ Epoch 18 ~~~~~~~~~~~\n",
      "⚠️ Encoder Changed\n",
      "Training Loss: 0.2466\n"
     ]
    },
    {
     "name": "stderr",
     "output_type": "stream",
     "text": [
      "                                                                \r"
     ]
    },
    {
     "name": "stdout",
     "output_type": "stream",
     "text": [
      "Eval Loss: 0.2139\n",
      "Accuracy: 0.9150, Precision: 0.9397, Recall: 0.8635, F1-score: 0.9000\n",
      "⚠️ No improvement for 4/10 epochs.\n",
      "~~~~~~~~~~~~~~~~~~~~~~~~~~~~~~~~~\n"
     ]
    },
    {
     "name": "stderr",
     "output_type": "stream",
     "text": [
      "                                                                    \r"
     ]
    },
    {
     "name": "stdout",
     "output_type": "stream",
     "text": [
      "~~~~~~~~~~~ Epoch 19 ~~~~~~~~~~~\n",
      "⚠️ Encoder Changed\n",
      "Training Loss: 0.2449\n"
     ]
    },
    {
     "name": "stderr",
     "output_type": "stream",
     "text": [
      "                                                                \r"
     ]
    },
    {
     "name": "stdout",
     "output_type": "stream",
     "text": [
      "Eval Loss: 0.2114\n",
      "Accuracy: 0.9174, Precision: 0.9524, Recall: 0.8586, F1-score: 0.9031\n",
      "⚠️ No improvement for 5/10 epochs.\n",
      "~~~~~~~~~~~~~~~~~~~~~~~~~~~~~~~~~\n"
     ]
    },
    {
     "name": "stderr",
     "output_type": "stream",
     "text": [
      "                                                                    \r"
     ]
    },
    {
     "name": "stdout",
     "output_type": "stream",
     "text": [
      "~~~~~~~~~~~ Epoch 20 ~~~~~~~~~~~\n",
      "⚠️ Encoder Changed\n",
      "Training Loss: 0.2482\n"
     ]
    },
    {
     "name": "stderr",
     "output_type": "stream",
     "text": [
      "                                                                \r"
     ]
    },
    {
     "name": "stdout",
     "output_type": "stream",
     "text": [
      "Eval Loss: 0.2050\n",
      "Accuracy: 0.9209, Precision: 0.9395, Recall: 0.8755, F1-score: 0.9064\n",
      "✅ Saved Best Model with Eval Loss: 0.2050\n",
      "~~~~~~~~~~~~~~~~~~~~~~~~~~~~~~~~~\n"
     ]
    },
    {
     "name": "stderr",
     "output_type": "stream",
     "text": [
      "                                                                    \r"
     ]
    },
    {
     "name": "stdout",
     "output_type": "stream",
     "text": [
      "~~~~~~~~~~~ Epoch 21 ~~~~~~~~~~~\n",
      "⚠️ Encoder Changed\n",
      "Training Loss: 0.2433\n"
     ]
    },
    {
     "name": "stderr",
     "output_type": "stream",
     "text": [
      "                                                                \r"
     ]
    },
    {
     "name": "stdout",
     "output_type": "stream",
     "text": [
      "Eval Loss: 0.2015\n",
      "Accuracy: 0.9222, Precision: 0.9393, Recall: 0.8793, F1-score: 0.9083\n",
      "✅ Saved Best Model with Eval Loss: 0.2015\n",
      "~~~~~~~~~~~~~~~~~~~~~~~~~~~~~~~~~\n"
     ]
    },
    {
     "name": "stderr",
     "output_type": "stream",
     "text": [
      "                                                                    \r"
     ]
    },
    {
     "name": "stdout",
     "output_type": "stream",
     "text": [
      "~~~~~~~~~~~ Epoch 22 ~~~~~~~~~~~\n",
      "⚠️ Encoder Changed\n",
      "Training Loss: 0.2447\n"
     ]
    },
    {
     "name": "stderr",
     "output_type": "stream",
     "text": [
      "                                                                \r"
     ]
    },
    {
     "name": "stdout",
     "output_type": "stream",
     "text": [
      "Eval Loss: 0.2176\n",
      "Accuracy: 0.9150, Precision: 0.9096, Recall: 0.8983, F1-score: 0.9039\n",
      "⚠️ No improvement for 1/10 epochs.\n",
      "~~~~~~~~~~~~~~~~~~~~~~~~~~~~~~~~~\n"
     ]
    },
    {
     "name": "stderr",
     "output_type": "stream",
     "text": [
      "                                                                    \r"
     ]
    },
    {
     "name": "stdout",
     "output_type": "stream",
     "text": [
      "~~~~~~~~~~~ Epoch 23 ~~~~~~~~~~~\n",
      "⚠️ Encoder Changed\n",
      "Training Loss: 0.2394\n"
     ]
    },
    {
     "name": "stderr",
     "output_type": "stream",
     "text": [
      "                                                                \r"
     ]
    },
    {
     "name": "stdout",
     "output_type": "stream",
     "text": [
      "Eval Loss: 0.2041\n",
      "Accuracy: 0.9208, Precision: 0.9463, Recall: 0.8710, F1-score: 0.9071\n",
      "⚠️ No improvement for 2/10 epochs.\n",
      "~~~~~~~~~~~~~~~~~~~~~~~~~~~~~~~~~\n"
     ]
    },
    {
     "name": "stderr",
     "output_type": "stream",
     "text": [
      "                                                                    \r"
     ]
    },
    {
     "name": "stdout",
     "output_type": "stream",
     "text": [
      "~~~~~~~~~~~ Epoch 24 ~~~~~~~~~~~\n",
      "⚠️ Encoder Changed\n",
      "Training Loss: 0.2400\n"
     ]
    },
    {
     "name": "stderr",
     "output_type": "stream",
     "text": [
      "                                                                \r"
     ]
    },
    {
     "name": "stdout",
     "output_type": "stream",
     "text": [
      "Eval Loss: 0.1956\n",
      "Accuracy: 0.9243, Precision: 0.9503, Recall: 0.8765, F1-score: 0.9119\n",
      "✅ Saved Best Model with Eval Loss: 0.1956\n",
      "~~~~~~~~~~~~~~~~~~~~~~~~~~~~~~~~~\n"
     ]
    },
    {
     "name": "stderr",
     "output_type": "stream",
     "text": [
      "                                                                    \r"
     ]
    },
    {
     "name": "stdout",
     "output_type": "stream",
     "text": [
      "~~~~~~~~~~~ Epoch 25 ~~~~~~~~~~~\n",
      "⚠️ Encoder Changed\n",
      "Training Loss: 0.2417\n"
     ]
    },
    {
     "name": "stderr",
     "output_type": "stream",
     "text": [
      "                                                                \r"
     ]
    },
    {
     "name": "stdout",
     "output_type": "stream",
     "text": [
      "Eval Loss: 0.1926\n",
      "Accuracy: 0.9268, Precision: 0.9590, Recall: 0.8714, F1-score: 0.9131\n",
      "✅ Saved Best Model with Eval Loss: 0.1926\n",
      "~~~~~~~~~~~~~~~~~~~~~~~~~~~~~~~~~\n"
     ]
    },
    {
     "name": "stderr",
     "output_type": "stream",
     "text": [
      "                                                                    \r"
     ]
    },
    {
     "name": "stdout",
     "output_type": "stream",
     "text": [
      "~~~~~~~~~~~ Epoch 26 ~~~~~~~~~~~\n",
      "⚠️ Encoder Changed\n",
      "Training Loss: 0.2388\n"
     ]
    },
    {
     "name": "stderr",
     "output_type": "stream",
     "text": [
      "                                                                \r"
     ]
    },
    {
     "name": "stdout",
     "output_type": "stream",
     "text": [
      "Eval Loss: 0.2017\n",
      "Accuracy: 0.9233, Precision: 0.9564, Recall: 0.8687, F1-score: 0.9105\n",
      "⚠️ No improvement for 1/10 epochs.\n",
      "~~~~~~~~~~~~~~~~~~~~~~~~~~~~~~~~~\n"
     ]
    },
    {
     "name": "stderr",
     "output_type": "stream",
     "text": [
      "                                                                    \r"
     ]
    },
    {
     "name": "stdout",
     "output_type": "stream",
     "text": [
      "~~~~~~~~~~~ Epoch 27 ~~~~~~~~~~~\n",
      "⚠️ Encoder Changed\n",
      "Training Loss: 0.2395\n"
     ]
    },
    {
     "name": "stderr",
     "output_type": "stream",
     "text": [
      "                                                                \r"
     ]
    },
    {
     "name": "stdout",
     "output_type": "stream",
     "text": [
      "Eval Loss: 0.2023\n",
      "Accuracy: 0.9220, Precision: 0.9533, Recall: 0.8654, F1-score: 0.9072\n",
      "⚠️ No improvement for 2/10 epochs.\n",
      "~~~~~~~~~~~~~~~~~~~~~~~~~~~~~~~~~\n"
     ]
    },
    {
     "name": "stderr",
     "output_type": "stream",
     "text": [
      "                                                                    \r"
     ]
    },
    {
     "name": "stdout",
     "output_type": "stream",
     "text": [
      "~~~~~~~~~~~ Epoch 28 ~~~~~~~~~~~\n",
      "⚠️ Encoder Changed\n",
      "Training Loss: 0.2384\n"
     ]
    },
    {
     "name": "stderr",
     "output_type": "stream",
     "text": [
      "                                                                \r"
     ]
    },
    {
     "name": "stdout",
     "output_type": "stream",
     "text": [
      "Eval Loss: 0.1973\n",
      "Accuracy: 0.9233, Precision: 0.9518, Recall: 0.8719, F1-score: 0.9101\n",
      "⚠️ No improvement for 3/10 epochs.\n",
      "~~~~~~~~~~~~~~~~~~~~~~~~~~~~~~~~~\n"
     ]
    },
    {
     "name": "stderr",
     "output_type": "stream",
     "text": [
      "                                                                    \r"
     ]
    },
    {
     "name": "stdout",
     "output_type": "stream",
     "text": [
      "~~~~~~~~~~~ Epoch 29 ~~~~~~~~~~~\n",
      "⚠️ Encoder Changed\n",
      "Training Loss: 0.2317\n"
     ]
    },
    {
     "name": "stderr",
     "output_type": "stream",
     "text": [
      "                                                                \r"
     ]
    },
    {
     "name": "stdout",
     "output_type": "stream",
     "text": [
      "Eval Loss: 0.1839\n",
      "Accuracy: 0.9286, Precision: 0.9500, Recall: 0.8870, F1-score: 0.9174\n",
      "✅ Saved Best Model with Eval Loss: 0.1839\n",
      "~~~~~~~~~~~~~~~~~~~~~~~~~~~~~~~~~\n"
     ]
    },
    {
     "name": "stderr",
     "output_type": "stream",
     "text": [
      "                                                                    \r"
     ]
    },
    {
     "name": "stdout",
     "output_type": "stream",
     "text": [
      "~~~~~~~~~~~ Epoch 30 ~~~~~~~~~~~\n",
      "⚠️ Encoder Changed\n",
      "Training Loss: 0.2326\n"
     ]
    },
    {
     "name": "stderr",
     "output_type": "stream",
     "text": [
      "                                                                \r"
     ]
    },
    {
     "name": "stdout",
     "output_type": "stream",
     "text": [
      "Eval Loss: 0.1937\n",
      "Accuracy: 0.9271, Precision: 0.9450, Recall: 0.8877, F1-score: 0.9154\n",
      "⚠️ No improvement for 1/10 epochs.\n",
      "~~~~~~~~~~~~~~~~~~~~~~~~~~~~~~~~~\n"
     ]
    },
    {
     "name": "stderr",
     "output_type": "stream",
     "text": [
      "                                                                    \r"
     ]
    },
    {
     "name": "stdout",
     "output_type": "stream",
     "text": [
      "~~~~~~~~~~~ Epoch 31 ~~~~~~~~~~~\n",
      "⚠️ Encoder Changed\n",
      "Training Loss: 0.2353\n"
     ]
    },
    {
     "name": "stderr",
     "output_type": "stream",
     "text": [
      "                                                                \r"
     ]
    },
    {
     "name": "stdout",
     "output_type": "stream",
     "text": [
      "Eval Loss: 0.1833\n",
      "Accuracy: 0.9275, Precision: 0.9423, Recall: 0.8917, F1-score: 0.9163\n",
      "✅ Saved Best Model with Eval Loss: 0.1833\n",
      "~~~~~~~~~~~~~~~~~~~~~~~~~~~~~~~~~\n"
     ]
    },
    {
     "name": "stderr",
     "output_type": "stream",
     "text": [
      "                                                                    \r"
     ]
    },
    {
     "name": "stdout",
     "output_type": "stream",
     "text": [
      "~~~~~~~~~~~ Epoch 32 ~~~~~~~~~~~\n",
      "⚠️ Encoder Changed\n",
      "Training Loss: 0.2312\n"
     ]
    },
    {
     "name": "stderr",
     "output_type": "stream",
     "text": [
      "                                                                \r"
     ]
    },
    {
     "name": "stdout",
     "output_type": "stream",
     "text": [
      "Eval Loss: 0.1944\n",
      "Accuracy: 0.9268, Precision: 0.9417, Recall: 0.8904, F1-score: 0.9153\n",
      "⚠️ No improvement for 1/10 epochs.\n",
      "~~~~~~~~~~~~~~~~~~~~~~~~~~~~~~~~~\n"
     ]
    },
    {
     "name": "stderr",
     "output_type": "stream",
     "text": [
      "                                                                    \r"
     ]
    },
    {
     "name": "stdout",
     "output_type": "stream",
     "text": [
      "~~~~~~~~~~~ Epoch 33 ~~~~~~~~~~~\n",
      "⚠️ Encoder Changed\n",
      "Training Loss: 0.2324\n"
     ]
    },
    {
     "name": "stderr",
     "output_type": "stream",
     "text": [
      "                                                                \r"
     ]
    },
    {
     "name": "stdout",
     "output_type": "stream",
     "text": [
      "Eval Loss: 0.1927\n",
      "Accuracy: 0.9239, Precision: 0.9421, Recall: 0.8832, F1-score: 0.9117\n",
      "⚠️ No improvement for 2/10 epochs.\n",
      "~~~~~~~~~~~~~~~~~~~~~~~~~~~~~~~~~\n"
     ]
    },
    {
     "name": "stderr",
     "output_type": "stream",
     "text": [
      "                                                                    \r"
     ]
    },
    {
     "name": "stdout",
     "output_type": "stream",
     "text": [
      "~~~~~~~~~~~ Epoch 34 ~~~~~~~~~~~\n",
      "⚠️ Encoder Changed\n",
      "Training Loss: 0.2308\n"
     ]
    },
    {
     "name": "stderr",
     "output_type": "stream",
     "text": [
      "                                                                \r"
     ]
    },
    {
     "name": "stdout",
     "output_type": "stream",
     "text": [
      "Eval Loss: 0.1915\n",
      "Accuracy: 0.9263, Precision: 0.9484, Recall: 0.8832, F1-score: 0.9147\n",
      "⚠️ No improvement for 3/10 epochs.\n",
      "~~~~~~~~~~~~~~~~~~~~~~~~~~~~~~~~~\n"
     ]
    },
    {
     "name": "stderr",
     "output_type": "stream",
     "text": [
      "                                                                    \r"
     ]
    },
    {
     "name": "stdout",
     "output_type": "stream",
     "text": [
      "~~~~~~~~~~~ Epoch 35 ~~~~~~~~~~~\n",
      "⚠️ Encoder Changed\n",
      "Training Loss: 0.2319\n"
     ]
    },
    {
     "name": "stderr",
     "output_type": "stream",
     "text": [
      "                                                                \r"
     ]
    },
    {
     "name": "stdout",
     "output_type": "stream",
     "text": [
      "Eval Loss: 0.1905\n",
      "Accuracy: 0.9255, Precision: 0.9497, Recall: 0.8815, F1-score: 0.9143\n",
      "⚠️ No improvement for 4/10 epochs.\n",
      "~~~~~~~~~~~~~~~~~~~~~~~~~~~~~~~~~\n"
     ]
    },
    {
     "name": "stderr",
     "output_type": "stream",
     "text": [
      "                                                                    \r"
     ]
    },
    {
     "name": "stdout",
     "output_type": "stream",
     "text": [
      "~~~~~~~~~~~ Epoch 36 ~~~~~~~~~~~\n",
      "⚠️ Encoder Changed\n",
      "Training Loss: 0.2289\n"
     ]
    },
    {
     "name": "stderr",
     "output_type": "stream",
     "text": [
      "                                                                \r"
     ]
    },
    {
     "name": "stdout",
     "output_type": "stream",
     "text": [
      "Eval Loss: 0.1851\n",
      "Accuracy: 0.9295, Precision: 0.9439, Recall: 0.8939, F1-score: 0.9182\n",
      "⚠️ No improvement for 5/10 epochs.\n",
      "~~~~~~~~~~~~~~~~~~~~~~~~~~~~~~~~~\n"
     ]
    },
    {
     "name": "stderr",
     "output_type": "stream",
     "text": [
      "                                                                    \r"
     ]
    },
    {
     "name": "stdout",
     "output_type": "stream",
     "text": [
      "~~~~~~~~~~~ Epoch 37 ~~~~~~~~~~~\n",
      "⚠️ Encoder Changed\n",
      "Training Loss: 0.2288\n"
     ]
    },
    {
     "name": "stderr",
     "output_type": "stream",
     "text": [
      "                                                                \r"
     ]
    },
    {
     "name": "stdout",
     "output_type": "stream",
     "text": [
      "Eval Loss: 0.1908\n",
      "Accuracy: 0.9276, Precision: 0.9474, Recall: 0.8857, F1-score: 0.9155\n",
      "⚠️ No improvement for 6/10 epochs.\n",
      "~~~~~~~~~~~~~~~~~~~~~~~~~~~~~~~~~\n"
     ]
    },
    {
     "name": "stderr",
     "output_type": "stream",
     "text": [
      "                                                                    \r"
     ]
    },
    {
     "name": "stdout",
     "output_type": "stream",
     "text": [
      "~~~~~~~~~~~ Epoch 38 ~~~~~~~~~~~\n",
      "⚠️ Encoder Changed\n",
      "Training Loss: 0.2271\n"
     ]
    },
    {
     "name": "stderr",
     "output_type": "stream",
     "text": [
      "                                                                \r"
     ]
    },
    {
     "name": "stdout",
     "output_type": "stream",
     "text": [
      "Eval Loss: 0.1857\n",
      "Accuracy: 0.9279, Precision: 0.9532, Recall: 0.8820, F1-score: 0.9162\n",
      "⚠️ No improvement for 7/10 epochs.\n",
      "~~~~~~~~~~~~~~~~~~~~~~~~~~~~~~~~~\n"
     ]
    },
    {
     "name": "stderr",
     "output_type": "stream",
     "text": [
      "                                                                    \r"
     ]
    },
    {
     "name": "stdout",
     "output_type": "stream",
     "text": [
      "~~~~~~~~~~~ Epoch 39 ~~~~~~~~~~~\n",
      "⚠️ Encoder Changed\n",
      "Training Loss: 0.2259\n"
     ]
    },
    {
     "name": "stderr",
     "output_type": "stream",
     "text": [
      "                                                                \r"
     ]
    },
    {
     "name": "stdout",
     "output_type": "stream",
     "text": [
      "Eval Loss: 0.1909\n",
      "Accuracy: 0.9257, Precision: 0.9400, Recall: 0.8909, F1-score: 0.9148\n",
      "⚠️ No improvement for 8/10 epochs.\n",
      "~~~~~~~~~~~~~~~~~~~~~~~~~~~~~~~~~\n"
     ]
    },
    {
     "name": "stderr",
     "output_type": "stream",
     "text": [
      "                                                                    \r"
     ]
    },
    {
     "name": "stdout",
     "output_type": "stream",
     "text": [
      "~~~~~~~~~~~ Epoch 40 ~~~~~~~~~~~\n",
      "⚠️ Encoder Changed\n",
      "Training Loss: 0.2289\n"
     ]
    },
    {
     "name": "stderr",
     "output_type": "stream",
     "text": [
      "                                                                \r"
     ]
    },
    {
     "name": "stdout",
     "output_type": "stream",
     "text": [
      "Eval Loss: 0.1933\n",
      "Accuracy: 0.9245, Precision: 0.9418, Recall: 0.8827, F1-score: 0.9113\n",
      "⚠️ No improvement for 9/10 epochs.\n",
      "~~~~~~~~~~~~~~~~~~~~~~~~~~~~~~~~~\n"
     ]
    },
    {
     "name": "stderr",
     "output_type": "stream",
     "text": [
      "                                                                    \r"
     ]
    },
    {
     "name": "stdout",
     "output_type": "stream",
     "text": [
      "~~~~~~~~~~~ Epoch 41 ~~~~~~~~~~~\n",
      "⚠️ Encoder Changed\n",
      "Training Loss: 0.2262\n"
     ]
    },
    {
     "name": "stderr",
     "output_type": "stream",
     "text": [
      "                                                                \r"
     ]
    },
    {
     "name": "stdout",
     "output_type": "stream",
     "text": [
      "Eval Loss: 0.1800\n",
      "Accuracy: 0.9317, Precision: 0.9418, Recall: 0.9007, F1-score: 0.9208\n",
      "✅ Saved Best Model with Eval Loss: 0.1800\n",
      "~~~~~~~~~~~~~~~~~~~~~~~~~~~~~~~~~\n"
     ]
    },
    {
     "name": "stderr",
     "output_type": "stream",
     "text": [
      "                                                                   \r"
     ]
    },
    {
     "ename": "KeyboardInterrupt",
     "evalue": "",
     "output_type": "error",
     "traceback": [
      "\u001b[31m---------------------------------------------------------------------------\u001b[39m",
      "\u001b[31mKeyboardInterrupt\u001b[39m                         Traceback (most recent call last)",
      "\u001b[36mCell\u001b[39m\u001b[36m \u001b[39m\u001b[32mIn[2]\u001b[39m\u001b[32m, line 104\u001b[39m\n\u001b[32m    101\u001b[39m model.train()\n\u001b[32m    103\u001b[39m train_loss = \u001b[32m0.0\u001b[39m\n\u001b[32m--> \u001b[39m\u001b[32m104\u001b[39m \u001b[43m\u001b[49m\u001b[38;5;28;43;01mfor\u001b[39;49;00m\u001b[43m \u001b[49m\u001b[43mimgs\u001b[49m\u001b[43m,\u001b[49m\u001b[43m \u001b[49m\u001b[43mlabels\u001b[49m\u001b[43m \u001b[49m\u001b[38;5;129;43;01min\u001b[39;49;00m\u001b[43m \u001b[49m\u001b[43mtqdm\u001b[49m\u001b[43m(\u001b[49m\u001b[43mtrain_dataloader\u001b[49m\u001b[43m,\u001b[49m\u001b[43m \u001b[49m\u001b[43mdesc\u001b[49m\u001b[43m=\u001b[49m\u001b[33;43mf\u001b[39;49m\u001b[33;43m\"\u001b[39;49m\u001b[33;43mBinary Epoch \u001b[39;49m\u001b[38;5;132;43;01m{\u001b[39;49;00m\u001b[43mepoch\u001b[49m\u001b[43m+\u001b[49m\u001b[32;43m1\u001b[39;49m\u001b[38;5;132;43;01m}\u001b[39;49;00m\u001b[33;43m\"\u001b[39;49m\u001b[43m,\u001b[49m\u001b[43m \u001b[49m\u001b[43mleave\u001b[49m\u001b[43m=\u001b[49m\u001b[38;5;28;43;01mFalse\u001b[39;49;00m\u001b[43m)\u001b[49m\u001b[43m:\u001b[49m\n\u001b[32m    105\u001b[39m \u001b[43m    \u001b[49m\u001b[43mimgs\u001b[49m\u001b[43m \u001b[49m\u001b[43m=\u001b[49m\u001b[43m \u001b[49m\u001b[43mimgs\u001b[49m\u001b[43m.\u001b[49m\u001b[43mto\u001b[49m\u001b[43m(\u001b[49m\u001b[43mdevice\u001b[49m\u001b[43m)\u001b[49m\n\u001b[32m    106\u001b[39m \u001b[43m    \u001b[49m\u001b[43mbinary_labels\u001b[49m\u001b[43m \u001b[49m\u001b[43m=\u001b[49m\u001b[43m \u001b[49m\u001b[43mtorch\u001b[49m\u001b[43m.\u001b[49m\u001b[43mtensor\u001b[49m\u001b[43m(\u001b[49m\u001b[43m[\u001b[49m\u001b[32;43m0.0\u001b[39;49m\u001b[43m \u001b[49m\u001b[38;5;28;43;01mif\u001b[39;49;00m\u001b[43m \u001b[49m\u001b[43ml\u001b[49m\u001b[43m \u001b[49m\u001b[43m==\u001b[49m\u001b[43m \u001b[49m\u001b[33;43m'\u001b[39;49m\u001b[33;43mClean\u001b[39;49m\u001b[33;43m'\u001b[39;49m\u001b[43m \u001b[49m\u001b[38;5;28;43;01melse\u001b[39;49;00m\u001b[43m \u001b[49m\u001b[32;43m1.0\u001b[39;49m\u001b[43m \u001b[49m\u001b[38;5;28;43;01mfor\u001b[39;49;00m\u001b[43m \u001b[49m\u001b[43ml\u001b[49m\u001b[43m \u001b[49m\u001b[38;5;129;43;01min\u001b[39;49;00m\u001b[43m \u001b[49m\u001b[43mlabels\u001b[49m\u001b[43m]\u001b[49m\u001b[43m,\u001b[49m\u001b[43m \u001b[49m\u001b[43mdtype\u001b[49m\u001b[43m=\u001b[49m\u001b[43mtorch\u001b[49m\u001b[43m.\u001b[49m\u001b[43mfloat32\u001b[49m\u001b[43m,\u001b[49m\u001b[43m \u001b[49m\u001b[43mdevice\u001b[49m\u001b[43m=\u001b[49m\u001b[43mdevice\u001b[49m\u001b[43m)\u001b[49m\u001b[43m.\u001b[49m\u001b[43munsqueeze\u001b[49m\u001b[43m(\u001b[49m\u001b[32;43m1\u001b[39;49m\u001b[43m)\u001b[49m\u001b[43m  \u001b[49m\u001b[38;5;66;43;03m# shape: [B, 1]\u001b[39;49;00m\n",
      "\u001b[36mFile \u001b[39m\u001b[32mc:\\Users\\k_chi\\vscodeProjects\\FLIr Image Quality Estimator (FLIQE)\\.venv\\Lib\\site-packages\\tqdm\\std.py:1181\u001b[39m, in \u001b[36mtqdm.__iter__\u001b[39m\u001b[34m(self)\u001b[39m\n\u001b[32m   1178\u001b[39m time = \u001b[38;5;28mself\u001b[39m._time\n\u001b[32m   1180\u001b[39m \u001b[38;5;28;01mtry\u001b[39;00m:\n\u001b[32m-> \u001b[39m\u001b[32m1181\u001b[39m \u001b[43m    \u001b[49m\u001b[38;5;28;43;01mfor\u001b[39;49;00m\u001b[43m \u001b[49m\u001b[43mobj\u001b[49m\u001b[43m \u001b[49m\u001b[38;5;129;43;01min\u001b[39;49;00m\u001b[43m \u001b[49m\u001b[43miterable\u001b[49m\u001b[43m:\u001b[49m\n\u001b[32m   1182\u001b[39m \u001b[43m        \u001b[49m\u001b[38;5;28;43;01myield\u001b[39;49;00m\u001b[43m \u001b[49m\u001b[43mobj\u001b[49m\n\u001b[32m   1183\u001b[39m \u001b[43m        \u001b[49m\u001b[38;5;66;43;03m# Update and possibly print the progressbar.\u001b[39;49;00m\n\u001b[32m   1184\u001b[39m \u001b[43m        \u001b[49m\u001b[38;5;66;43;03m# Note: does not call self.update(1) for speed optimisation.\u001b[39;49;00m\n",
      "\u001b[36mFile \u001b[39m\u001b[32mc:\\Users\\k_chi\\vscodeProjects\\FLIr Image Quality Estimator (FLIQE)\\.venv\\Lib\\site-packages\\torch\\utils\\data\\dataloader.py:734\u001b[39m, in \u001b[36m_BaseDataLoaderIter.__next__\u001b[39m\u001b[34m(self)\u001b[39m\n\u001b[32m    731\u001b[39m \u001b[38;5;28;01mif\u001b[39;00m \u001b[38;5;28mself\u001b[39m._sampler_iter \u001b[38;5;129;01mis\u001b[39;00m \u001b[38;5;28;01mNone\u001b[39;00m:\n\u001b[32m    732\u001b[39m     \u001b[38;5;66;03m# TODO(https://github.com/pytorch/pytorch/issues/76750)\u001b[39;00m\n\u001b[32m    733\u001b[39m     \u001b[38;5;28mself\u001b[39m._reset()  \u001b[38;5;66;03m# type: ignore[call-arg]\u001b[39;00m\n\u001b[32m--> \u001b[39m\u001b[32m734\u001b[39m data = \u001b[38;5;28;43mself\u001b[39;49m\u001b[43m.\u001b[49m\u001b[43m_next_data\u001b[49m\u001b[43m(\u001b[49m\u001b[43m)\u001b[49m\n\u001b[32m    735\u001b[39m \u001b[38;5;28mself\u001b[39m._num_yielded += \u001b[32m1\u001b[39m\n\u001b[32m    736\u001b[39m \u001b[38;5;28;01mif\u001b[39;00m (\n\u001b[32m    737\u001b[39m     \u001b[38;5;28mself\u001b[39m._dataset_kind == _DatasetKind.Iterable\n\u001b[32m    738\u001b[39m     \u001b[38;5;129;01mand\u001b[39;00m \u001b[38;5;28mself\u001b[39m._IterableDataset_len_called \u001b[38;5;129;01mis\u001b[39;00m \u001b[38;5;129;01mnot\u001b[39;00m \u001b[38;5;28;01mNone\u001b[39;00m\n\u001b[32m    739\u001b[39m     \u001b[38;5;129;01mand\u001b[39;00m \u001b[38;5;28mself\u001b[39m._num_yielded > \u001b[38;5;28mself\u001b[39m._IterableDataset_len_called\n\u001b[32m    740\u001b[39m ):\n",
      "\u001b[36mFile \u001b[39m\u001b[32mc:\\Users\\k_chi\\vscodeProjects\\FLIr Image Quality Estimator (FLIQE)\\.venv\\Lib\\site-packages\\torch\\utils\\data\\dataloader.py:1492\u001b[39m, in \u001b[36m_MultiProcessingDataLoaderIter._next_data\u001b[39m\u001b[34m(self)\u001b[39m\n\u001b[32m   1489\u001b[39m     \u001b[38;5;28;01mreturn\u001b[39;00m \u001b[38;5;28mself\u001b[39m._process_data(data, worker_id)\n\u001b[32m   1491\u001b[39m \u001b[38;5;28;01massert\u001b[39;00m \u001b[38;5;129;01mnot\u001b[39;00m \u001b[38;5;28mself\u001b[39m._shutdown \u001b[38;5;129;01mand\u001b[39;00m \u001b[38;5;28mself\u001b[39m._tasks_outstanding > \u001b[32m0\u001b[39m\n\u001b[32m-> \u001b[39m\u001b[32m1492\u001b[39m idx, data = \u001b[38;5;28;43mself\u001b[39;49m\u001b[43m.\u001b[49m\u001b[43m_get_data\u001b[49m\u001b[43m(\u001b[49m\u001b[43m)\u001b[49m\n\u001b[32m   1493\u001b[39m \u001b[38;5;28mself\u001b[39m._tasks_outstanding -= \u001b[32m1\u001b[39m\n\u001b[32m   1494\u001b[39m \u001b[38;5;28;01mif\u001b[39;00m \u001b[38;5;28mself\u001b[39m._dataset_kind == _DatasetKind.Iterable:\n\u001b[32m   1495\u001b[39m     \u001b[38;5;66;03m# Check for _IterableDatasetStopIteration\u001b[39;00m\n",
      "\u001b[36mFile \u001b[39m\u001b[32mc:\\Users\\k_chi\\vscodeProjects\\FLIr Image Quality Estimator (FLIQE)\\.venv\\Lib\\site-packages\\torch\\utils\\data\\dataloader.py:1444\u001b[39m, in \u001b[36m_MultiProcessingDataLoaderIter._get_data\u001b[39m\u001b[34m(self)\u001b[39m\n\u001b[32m   1442\u001b[39m \u001b[38;5;28;01melif\u001b[39;00m \u001b[38;5;28mself\u001b[39m._pin_memory:\n\u001b[32m   1443\u001b[39m     \u001b[38;5;28;01mwhile\u001b[39;00m \u001b[38;5;28mself\u001b[39m._pin_memory_thread.is_alive():\n\u001b[32m-> \u001b[39m\u001b[32m1444\u001b[39m         success, data = \u001b[38;5;28;43mself\u001b[39;49m\u001b[43m.\u001b[49m\u001b[43m_try_get_data\u001b[49m\u001b[43m(\u001b[49m\u001b[43m)\u001b[49m\n\u001b[32m   1445\u001b[39m         \u001b[38;5;28;01mif\u001b[39;00m success:\n\u001b[32m   1446\u001b[39m             \u001b[38;5;28;01mreturn\u001b[39;00m data\n",
      "\u001b[36mFile \u001b[39m\u001b[32mc:\\Users\\k_chi\\vscodeProjects\\FLIr Image Quality Estimator (FLIQE)\\.venv\\Lib\\site-packages\\torch\\utils\\data\\dataloader.py:1285\u001b[39m, in \u001b[36m_MultiProcessingDataLoaderIter._try_get_data\u001b[39m\u001b[34m(self, timeout)\u001b[39m\n\u001b[32m   1272\u001b[39m \u001b[38;5;28;01mdef\u001b[39;00m\u001b[38;5;250m \u001b[39m\u001b[34m_try_get_data\u001b[39m(\u001b[38;5;28mself\u001b[39m, timeout=_utils.MP_STATUS_CHECK_INTERVAL):\n\u001b[32m   1273\u001b[39m     \u001b[38;5;66;03m# Tries to fetch data from `self._data_queue` once for a given timeout.\u001b[39;00m\n\u001b[32m   1274\u001b[39m     \u001b[38;5;66;03m# This can also be used as inner loop of fetching without timeout, with\u001b[39;00m\n\u001b[32m   (...)\u001b[39m\u001b[32m   1282\u001b[39m     \u001b[38;5;66;03m# Returns a 2-tuple:\u001b[39;00m\n\u001b[32m   1283\u001b[39m     \u001b[38;5;66;03m#   (bool: whether successfully get data, any: data if successful else None)\u001b[39;00m\n\u001b[32m   1284\u001b[39m     \u001b[38;5;28;01mtry\u001b[39;00m:\n\u001b[32m-> \u001b[39m\u001b[32m1285\u001b[39m         data = \u001b[38;5;28;43mself\u001b[39;49m\u001b[43m.\u001b[49m\u001b[43m_data_queue\u001b[49m\u001b[43m.\u001b[49m\u001b[43mget\u001b[49m\u001b[43m(\u001b[49m\u001b[43mtimeout\u001b[49m\u001b[43m=\u001b[49m\u001b[43mtimeout\u001b[49m\u001b[43m)\u001b[49m\n\u001b[32m   1286\u001b[39m         \u001b[38;5;28;01mreturn\u001b[39;00m (\u001b[38;5;28;01mTrue\u001b[39;00m, data)\n\u001b[32m   1287\u001b[39m     \u001b[38;5;28;01mexcept\u001b[39;00m \u001b[38;5;167;01mException\u001b[39;00m \u001b[38;5;28;01mas\u001b[39;00m e:\n\u001b[32m   1288\u001b[39m         \u001b[38;5;66;03m# At timeout and error, we manually check whether any worker has\u001b[39;00m\n\u001b[32m   1289\u001b[39m         \u001b[38;5;66;03m# failed. Note that this is the only mechanism for Windows to detect\u001b[39;00m\n\u001b[32m   1290\u001b[39m         \u001b[38;5;66;03m# worker failures.\u001b[39;00m\n",
      "\u001b[36mFile \u001b[39m\u001b[32m~\\AppData\\Local\\Programs\\Python\\Python311\\Lib\\queue.py:180\u001b[39m, in \u001b[36mQueue.get\u001b[39m\u001b[34m(self, block, timeout)\u001b[39m\n\u001b[32m    178\u001b[39m         \u001b[38;5;28;01mif\u001b[39;00m remaining <= \u001b[32m0.0\u001b[39m:\n\u001b[32m    179\u001b[39m             \u001b[38;5;28;01mraise\u001b[39;00m Empty\n\u001b[32m--> \u001b[39m\u001b[32m180\u001b[39m         \u001b[38;5;28;43mself\u001b[39;49m\u001b[43m.\u001b[49m\u001b[43mnot_empty\u001b[49m\u001b[43m.\u001b[49m\u001b[43mwait\u001b[49m\u001b[43m(\u001b[49m\u001b[43mremaining\u001b[49m\u001b[43m)\u001b[49m\n\u001b[32m    181\u001b[39m item = \u001b[38;5;28mself\u001b[39m._get()\n\u001b[32m    182\u001b[39m \u001b[38;5;28mself\u001b[39m.not_full.notify()\n",
      "\u001b[36mFile \u001b[39m\u001b[32m~\\AppData\\Local\\Programs\\Python\\Python311\\Lib\\threading.py:324\u001b[39m, in \u001b[36mCondition.wait\u001b[39m\u001b[34m(self, timeout)\u001b[39m\n\u001b[32m    322\u001b[39m \u001b[38;5;28;01melse\u001b[39;00m:\n\u001b[32m    323\u001b[39m     \u001b[38;5;28;01mif\u001b[39;00m timeout > \u001b[32m0\u001b[39m:\n\u001b[32m--> \u001b[39m\u001b[32m324\u001b[39m         gotit = \u001b[43mwaiter\u001b[49m\u001b[43m.\u001b[49m\u001b[43macquire\u001b[49m\u001b[43m(\u001b[49m\u001b[38;5;28;43;01mTrue\u001b[39;49;00m\u001b[43m,\u001b[49m\u001b[43m \u001b[49m\u001b[43mtimeout\u001b[49m\u001b[43m)\u001b[49m\n\u001b[32m    325\u001b[39m     \u001b[38;5;28;01melse\u001b[39;00m:\n\u001b[32m    326\u001b[39m         gotit = waiter.acquire(\u001b[38;5;28;01mFalse\u001b[39;00m)\n",
      "\u001b[31mKeyboardInterrupt\u001b[39m: "
     ]
    }
   ],
   "source": [
    "import sys, os\n",
    "sys.path.append(os.path.abspath(os.path.join(os.getcwd(), '..')))\n",
    "import torch\n",
    "import torch.nn as nn\n",
    "from tqdm import tqdm\n",
    "import sys, os\n",
    "sys.path.append(os.path.abspath(os.path.join(os.path.dirname(__file__), '../src')))\n",
    "from fliqe.datasets import ImageDataset\n",
    "from fliqe.distortions import *\n",
    "from models import DistortionBinaryClassifier, IQAEncoder\n",
    "from torchvision import transforms\n",
    "from torch.utils.data import DataLoader\n",
    "\n",
    "\n",
    "device = torch.device(\"cuda\" if torch.cuda.is_available() else \"cpu\")\n",
    "print(torch.__version__)\n",
    "print(torch.cuda.is_available())\n",
    "print(torch.version.cuda)\n",
    "print(torch.backends.cudnn.version())\n",
    "print(f\"Using device: {device}\")\n",
    "\n",
    "def load_model(model_path, device):\n",
    "    model = IQAEncoder(feature_dim=128, model_name='resnet50').to(device)\n",
    "    model.load_state_dict(torch.load(model_path, map_location=device))\n",
    "    model.eval()\n",
    "    return model\n",
    "\n",
    "encoder = load_model('../models/resnet50_128_out.pth', device)\n",
    "model = DistortionBinaryClassifier(encoder).to(device)\n",
    "optimizer = torch.optim.Adam(model.parameters(), lr=1e-3)\n",
    "loss_fn = nn.BCEWithLogitsLoss()\n",
    "            \n",
    "distortions = [Clean(), LensBlur(), MotionBlur(), GaussianNoise(), Overexposure(), Underexposure(), Compression(), Ghosting(), Aliasing()]\n",
    "transform = transforms.Compose([\n",
    "    transforms.ToPILImage(),\n",
    "    transforms.Resize((224, 224)), # 224 or 384\n",
    "    transforms.ToTensor(),\n",
    "])\n",
    "\n",
    "# train_image_folders = [f\"../data/video_frames_{i}\" for i in range(1, 13) if i != 5]\n",
    "# image_paths = []\n",
    "# for folder in train_image_folders:\n",
    "#     if not os.path.isdir(folder):\n",
    "#         print(f\"Warning: folder {folder} not found, skipping.\")\n",
    "#         continue\n",
    "#     image_paths.extend(\n",
    "#         [os.path.join(folder, fname)\n",
    "#          for fname in os.listdir(folder)\n",
    "#          if fname.lower().endswith(('.jpg', '.png'))]\n",
    "#     )\n",
    "# dataset = ImageDataset(image_paths, distortions=distortions, transform=transform, binary_labels=True)\n",
    "# train_dataloader = DataLoader(dataset, batch_size=64, shuffle=True, num_workers=16, pin_memory=True, persistent_workers=True, prefetch_factor=8)\n",
    "# print(f\"Train Dataset length: {len(dataset)}\")\n",
    "# eval_image_folders = \"../data/video_frames_5\" \n",
    "# image_paths = [os.path.join(eval_image_folders, fname) for fname in os.listdir(eval_image_folders) if fname.endswith(('.jpg', '.png'))]\n",
    "# eval_dataset = ImageDataset(image_paths, distortions=distortions, transform=transform, binary_labels=True)\n",
    "# eval_dataloader = DataLoader(eval_dataset, batch_size=64, shuffle=False, num_workers=16, pin_memory=True, persistent_workers=True, prefetch_factor=8)\n",
    "# print(f\"Eval Dataset length: {len(eval_dataset)}\")\n",
    "\n",
    "# All folders with images\n",
    "all_folders = [f\"../data/video_frames_{i}\" for i in range(1, 13)]\n",
    "# Gather all image paths\n",
    "all_image_paths = []\n",
    "for folder in all_folders:\n",
    "    if not os.path.isdir(folder):\n",
    "        print(f\"Warning: folder {folder} not found, skipping.\")\n",
    "        continue\n",
    "    all_image_paths.extend(\n",
    "        [os.path.join(folder, fname)\n",
    "         for fname in os.listdir(folder)\n",
    "         if fname.lower().endswith(('.jpg', '.png'))]\n",
    "    )\n",
    "print(f\"Total images found: {len(all_image_paths)}\")\n",
    "\n",
    "# Shuffle and split\n",
    "random.shuffle(all_image_paths)\n",
    "split_ratio = 0.8  # 80% train, 20% eval\n",
    "split_idx = int(len(all_image_paths) * split_ratio)\n",
    "train_paths = all_image_paths[:split_idx]\n",
    "eval_paths = all_image_paths[split_idx:]\n",
    "\n",
    "# Create datasets\n",
    "train_dataset = ImageDataset(train_paths, distortions=distortions, transform=transform, binary_labels=True)\n",
    "eval_dataset = ImageDataset(eval_paths, distortions=distortions, transform=transform, binary_labels=True)\n",
    "\n",
    "# Create dataloaders\n",
    "train_dataloader = DataLoader(train_dataset, batch_size=64, shuffle=True,\n",
    "                              num_workers=16, pin_memory=True, persistent_workers=True, prefetch_factor=8)\n",
    "eval_dataloader = DataLoader(eval_dataset, batch_size=64, shuffle=False,\n",
    "                             num_workers=16, pin_memory=True, persistent_workers=True, prefetch_factor=8)\n",
    "\n",
    "print(f\"Train Dataset length: {len(train_dataset)}\")\n",
    "print(f\"Eval Dataset length: {len(eval_dataset)}\")\n",
    "\n",
    "epochs = 100                        # maximum number of training epochs\n",
    "consecutive_training_epochs = 1     # number of epochs between evaluations\n",
    "patience = 10                       # number of epochs to wait before stopping\n",
    "no_improve_count = 0                # counter for consecutive non-improving epochs\n",
    "before = {k: v.detach().clone() for k, v in model.iqa_encoder.state_dict().items()}\n",
    "best_loss = float('inf')\n",
    "for epoch in range(epochs):\n",
    "    model.train()\n",
    "\n",
    "    train_loss = 0.0\n",
    "    for imgs, labels in tqdm(train_dataloader, desc=f\"Binary Epoch {epoch+1}\", leave=False):\n",
    "        imgs = imgs.to(device)\n",
    "        binary_labels = torch.tensor([0.0 if l == 'Clean' else 1.0 for l in labels], dtype=torch.float32, device=device).unsqueeze(1)  # shape: [B, 1]\n",
    "\n",
    "        logits = model(imgs)\n",
    "        loss = loss_fn(logits, binary_labels)\n",
    "\n",
    "        optimizer.zero_grad()\n",
    "        loss.backward()\n",
    "        optimizer.step()\n",
    "\n",
    "        train_loss += loss.item()\n",
    "    train_losses.append(train_loss / len(train_dataloader))\n",
    "\n",
    "    print(f\"~~~~~~~~~~~ Epoch {epoch+1} ~~~~~~~~~~~\")\n",
    "    after = model.iqa_encoder.state_dict()\n",
    "    for k in before:\n",
    "        if not torch.equal(before[k], after[k]):\n",
    "            print(\"⚠️ Encoder Changed\")\n",
    "            break\n",
    "    print(f\"Training Loss: {train_loss / len(train_dataloader):.4f}\")\n",
    "\n",
    "    # Validation\n",
    "    if ((epoch + 1) % consecutive_training_epochs == 0) or (epoch == 0):\n",
    "        accuracy = 0.0\n",
    "        eval_loss = 0.0\n",
    "        model.eval()\n",
    "\n",
    "        all_preds = []\n",
    "        all_labels = []\n",
    "\n",
    "        with torch.no_grad():\n",
    "            for imgs, labels in tqdm(eval_dataloader, desc=f\"Eval Epoch {epoch+1}\", leave=False):\n",
    "                imgs = imgs.to(device)\n",
    "                binary_labels = torch.tensor(\n",
    "                    [0.0 if l == 'Clean' else 1.0 for l in labels],\n",
    "                    dtype=torch.float32, device=device\n",
    "                ).unsqueeze(1)\n",
    "\n",
    "                logits = model(imgs)\n",
    "                preds = (torch.sigmoid(logits) > 0.5).float()\n",
    "\n",
    "                # For metrics\n",
    "                all_preds.extend(preds.cpu().numpy().flatten())\n",
    "                all_labels.extend(binary_labels.cpu().numpy().flatten())\n",
    "\n",
    "                # Loss and accuracy (batch level)\n",
    "                eval_loss += loss_fn(logits, binary_labels).item()\n",
    "                accuracy += (preds == binary_labels).float().mean().item()\n",
    "\n",
    "        # Average loss and accuracy\n",
    "        eval_loss /= len(eval_dataloader)\n",
    "        accuracy /= len(eval_dataloader)\n",
    "\n",
    "        # Convert to numpy arrays for sklearn metrics\n",
    "        all_preds = np.array(all_preds)\n",
    "        all_labels = np.array(all_labels)\n",
    "\n",
    "        # Compute precision, recall, F1\n",
    "        precision = precision_score(all_labels, all_preds, zero_division=0)\n",
    "        recall = recall_score(all_labels, all_preds, zero_division=0)\n",
    "        f1 = f1_score(all_labels, all_preds, zero_division=0)\n",
    "\n",
    "        eval_losses.append(eval_loss)\n",
    "\n",
    "        print(f\"Eval Loss: {eval_loss:.4f}\")\n",
    "        print(f\"Accuracy: {accuracy:.4f}, Precision: {precision:.4f}, Recall: {recall:.4f}, F1-score: {f1:.4f}\")\n",
    "\n",
    "        # --- Early stopping logic ---\n",
    "        if eval_loss < best_loss:\n",
    "            best_loss = eval_loss\n",
    "            no_improve_count = 0\n",
    "            torch.save(model.state_dict(), f'../models/encoder_with_binary_head.pth')\n",
    "            print(f\"✅ Saved Best Model with Eval Loss: {best_loss:.4f}\")\n",
    "        else:\n",
    "            optimizer.param_groups[0]['lr'] *= 0.95\n",
    "            no_improve_count += 1\n",
    "            print(f\"⚠️ No improvement for {no_improve_count}/{patience} epochs.\")\n",
    "            if no_improve_count >= patience:\n",
    "                print(f\"🛑 Early stopping triggered at epoch {epoch + 1}. Best eval loss: {best_loss:.4f}\")\n",
    "                break\n",
    "    print(\"~~~~~~~~~~~~~~~~~~~~~~~~~~~~~~~~~\")\n",
    "\n",
    "        \n"
   ]
  },
  {
   "cell_type": "code",
   "execution_count": 3,
   "id": "838e813c",
   "metadata": {},
   "outputs": [
    {
     "data": {
      "image/png": "[encoded data removed]",
      "text/plain": [
       "<Figure size 800x500 with 1 Axes>"
      ]
     },
     "metadata": {},
     "output_type": "display_data"
    }
   ],
   "source": [
    "plot_losses(train_losses, eval_losses)"
   ]
  },
  {
   "cell_type": "code",
   "execution_count": 4,
   "id": "eb920b4a",
   "metadata": {},
   "outputs": [],
   "source": [
    "torch.save(model.state_dict(), f'../models/encoder_with_binary_head.pth')"
   ]
  }
 ],
 "metadata": {
  "kernelspec": {
   "display_name": ".venv",
   "language": "python",
   "name": "python3"
  },
  "language_info": {
   "codemirror_mode": {
    "name": "ipython",
    "version": 3
   },
   "file_extension": ".py",
   "mimetype": "text/x-python",
   "name": "python",
   "nbconvert_exporter": "python",
   "pygments_lexer": "ipython3",
   "version": "3.11.0"
  }
 },
 "nbformat": 4,
 "nbformat_minor": 5
}
