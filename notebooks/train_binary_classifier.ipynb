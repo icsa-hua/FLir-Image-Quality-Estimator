{
 "cells": [
  {
   "cell_type": "code",
   "execution_count": 1,
   "id": "0f0fbede",
   "metadata": {},
   "outputs": [
    {
     "name": "stdout",
     "output_type": "stream",
     "text": [
      "Train Dataset length: 76625\n",
      "Eval Dataset length: 4045\n"
     ]
    },
    {
     "name": "stderr",
     "output_type": "stream",
     "text": [
      "                                                                   \r"
     ]
    },
    {
     "name": "stdout",
     "output_type": "stream",
     "text": [
      "Epoch 1, Loss: 0.3719\n"
     ]
    },
    {
     "name": "stderr",
     "output_type": "stream",
     "text": [
      "                                                             \r"
     ]
    },
    {
     "name": "stdout",
     "output_type": "stream",
     "text": [
      "Eval Accuracy: 0.8563, Eval Loss: 0.0201\n",
      "Saved Best Model with Loss: 0.3719\n"
     ]
    },
    {
     "name": "stderr",
     "output_type": "stream",
     "text": [
      "                                                                   \r"
     ]
    },
    {
     "name": "stdout",
     "output_type": "stream",
     "text": [
      "Epoch 2, Loss: 0.3241\n"
     ]
    },
    {
     "name": "stderr",
     "output_type": "stream",
     "text": [
      "                                                             \r"
     ]
    },
    {
     "name": "stdout",
     "output_type": "stream",
     "text": [
      "Eval Accuracy: 0.8277, Eval Loss: 0.0083\n",
      "Saved Best Model with Loss: 0.3241\n"
     ]
    },
    {
     "name": "stderr",
     "output_type": "stream",
     "text": [
      "                                                                   \r"
     ]
    },
    {
     "name": "stdout",
     "output_type": "stream",
     "text": [
      "Epoch 3, Loss: 0.3099\n"
     ]
    },
    {
     "name": "stderr",
     "output_type": "stream",
     "text": [
      "                                                             \r"
     ]
    },
    {
     "name": "stdout",
     "output_type": "stream",
     "text": [
      "Eval Accuracy: 0.8629, Eval Loss: 0.0098\n",
      "Saved Best Model with Loss: 0.3099\n"
     ]
    },
    {
     "name": "stderr",
     "output_type": "stream",
     "text": [
      "                                                                   \r"
     ]
    },
    {
     "name": "stdout",
     "output_type": "stream",
     "text": [
      "Epoch 4, Loss: 0.2978\n"
     ]
    },
    {
     "name": "stderr",
     "output_type": "stream",
     "text": [
      "                                                             \r"
     ]
    },
    {
     "name": "stdout",
     "output_type": "stream",
     "text": [
      "Eval Accuracy: 0.8964, Eval Loss: 0.0165\n",
      "Saved Best Model with Loss: 0.2978\n"
     ]
    },
    {
     "name": "stderr",
     "output_type": "stream",
     "text": [
      "                                                                   \r"
     ]
    },
    {
     "name": "stdout",
     "output_type": "stream",
     "text": [
      "Epoch 5, Loss: 0.2895\n"
     ]
    },
    {
     "name": "stderr",
     "output_type": "stream",
     "text": [
      "                                                             \r"
     ]
    },
    {
     "name": "stdout",
     "output_type": "stream",
     "text": [
      "Eval Accuracy: 0.8788, Eval Loss: 0.0202\n",
      "Saved Best Model with Loss: 0.2895\n"
     ]
    },
    {
     "name": "stderr",
     "output_type": "stream",
     "text": [
      "                                                                   \r"
     ]
    },
    {
     "name": "stdout",
     "output_type": "stream",
     "text": [
      "Epoch 6, Loss: 0.2802\n"
     ]
    },
    {
     "name": "stderr",
     "output_type": "stream",
     "text": [
      "                                                             \r"
     ]
    },
    {
     "name": "stdout",
     "output_type": "stream",
     "text": [
      "Eval Accuracy: 0.8710, Eval Loss: 0.0258\n",
      "Saved Best Model with Loss: 0.2802\n"
     ]
    },
    {
     "name": "stderr",
     "output_type": "stream",
     "text": [
      "                                                                   \r"
     ]
    },
    {
     "name": "stdout",
     "output_type": "stream",
     "text": [
      "Epoch 7, Loss: 0.2803\n"
     ]
    },
    {
     "name": "stderr",
     "output_type": "stream",
     "text": [
      "                                                             "
     ]
    },
    {
     "name": "stdout",
     "output_type": "stream",
     "text": [
      "Eval Accuracy: 0.8885, Eval Loss: 0.0176\n",
      "Early stopping at epoch 7 with loss 0.0176 (best: 335.7181)\n"
     ]
    },
    {
     "name": "stderr",
     "output_type": "stream",
     "text": [
      "\r"
     ]
    }
   ],
   "source": [
    "import sys, os\n",
    "sys.path.append(os.path.abspath(os.path.join(os.getcwd(), '..')))\n",
    "import torch\n",
    "import torch.nn as nn\n",
    "from tqdm import tqdm\n",
    "from datasets import ImageDataset\n",
    "from distortions import *\n",
    "from models import DistortionBinaryClassifier, IQAEncoder\n",
    "from torchvision import transforms\n",
    "from torch.utils.data import DataLoader\n",
    "\n",
    "\n",
    "device = torch.device(\"cuda\" if torch.cuda.is_available() else \"cpu\")\n",
    "\n",
    "def load_model(model_path, device):\n",
    "    model = IQAEncoder(feature_dim=128, model_name='resnet50').to(device)\n",
    "    model.load_state_dict(torch.load(model_path, map_location=device))\n",
    "    model.eval()\n",
    "    return model\n",
    "\n",
    "encoder = load_model('../models/resnet50_128_out.pth', device)\n",
    "model = DistortionBinaryClassifier(encoder).to(device)\n",
    "optimizer = torch.optim.Adam(model.parameters(), lr=1e-3)\n",
    "loss_fn = nn.BCEWithLogitsLoss()\n",
    "\n",
    "distortions = [Clean(), LensBlur(), MotionBlur(), GaussianNoise(), Overexposure(), Underexposure(), Compression(), Ghosting(), Aliasing()]\n",
    "transform = transforms.Compose([\n",
    "    transforms.ToPILImage(),\n",
    "    transforms.Resize((224, 224)), # 224 or 384\n",
    "    transforms.ToTensor(),\n",
    "])\n",
    "\n",
    "train_image_folders = [f\"../data/video_frames_{i}\" for i in range(1, 13) if i != 5]\n",
    "image_paths = []\n",
    "for folder in train_image_folders:\n",
    "    if not os.path.isdir(folder):\n",
    "        print(f\"Warning: folder {folder} not found, skipping.\")\n",
    "        continue\n",
    "    image_paths.extend(\n",
    "        [os.path.join(folder, fname)\n",
    "         for fname in os.listdir(folder)\n",
    "         if fname.lower().endswith(('.jpg', '.png'))]\n",
    "    )\n",
    "dataset = ImageDataset(image_paths, distortions=distortions, transform=transform, binary_labels=True)\n",
    "dataloader = DataLoader(dataset, batch_size=64, shuffle=True, num_workers=4)\n",
    "print(f\"Train Dataset length: {len(dataset)}\")\n",
    "\n",
    "eval_image_folders = \"../data/video_frames_5\" \n",
    "image_paths = [os.path.join(eval_image_folders, fname) for fname in os.listdir(eval_image_folders) if fname.endswith(('.jpg', '.png'))]\n",
    "eval_dataset = ImageDataset(image_paths, distortions=distortions, transform=transform, binary_labels=True)\n",
    "eval_dataloader = DataLoader(eval_dataset, batch_size=64, shuffle=False, num_workers=4)\n",
    "print(f\"Eval Dataset length: {len(eval_dataset)}\")\n",
    "\n",
    "epochs = 100\n",
    "best_loss = float('inf')\n",
    "for epoch in range(epochs):\n",
    "    model.train()\n",
    "    epoch_loss = 0.0\n",
    "    for imgs, labels in tqdm(dataloader, desc=f\"Binary Epoch {epoch+1}\", leave=False):\n",
    "        imgs = imgs.to(device)\n",
    "        binary_labels = torch.tensor([0.0 if l == 'Clean' else 1.0 for l in labels], dtype=torch.float32, device=device).unsqueeze(1)  # shape: [B, 1]\n",
    "\n",
    "        logits = model(imgs)\n",
    "        loss = loss_fn(logits, binary_labels)\n",
    "\n",
    "        optimizer.zero_grad()\n",
    "        loss.backward()\n",
    "        optimizer.step()\n",
    "\n",
    "        epoch_loss += loss.item()\n",
    "\n",
    "    print(f\"Epoch {epoch+1}, Loss: {epoch_loss / len(dataloader):.4f}\")\n",
    "\n",
    "    # Validation\n",
    "    if ((epoch+1) % 1 == 0) or (epoch == 0):\n",
    "        accuracy = 0.0\n",
    "        eval_loss = 0.0\n",
    "        model.eval()\n",
    "        with torch.no_grad():\n",
    "            for imgs, labels in tqdm(eval_dataloader, desc=f\"Eval Epoch {epoch+1}\", leave=False):\n",
    "                imgs = imgs.to(device)\n",
    "                binary_labels = torch.tensor([0.0 if l == 'Clean' else 1.0 for l in labels], dtype=torch.float32, device=device).unsqueeze(1)\n",
    "                logits = model(imgs)\n",
    "                preds = torch.sigmoid(logits) > 0.5\n",
    "                accuracy += (preds == binary_labels).float().mean().item()\n",
    "                eval_loss = loss_fn(logits, binary_labels).item()\n",
    "        \n",
    "        eval_loss /= len(eval_dataloader)\n",
    "        accuracy /= len(eval_dataloader)\n",
    "        print(f\"Eval Accuracy: {accuracy:.4f}, Eval Loss: {eval_loss:.4f}\")\n",
    "        if epoch_loss < best_loss:\n",
    "            best_loss = epoch_loss\n",
    "            torch.save(model.state_dict(), f'../models/best_binary_classifier.pth')\n",
    "            print(f\"Saved Best Model with Loss: {best_loss / len(dataloader):.4f}\")\n",
    "        else:\n",
    "            print(f\"Early stopping at epoch {epoch + 1} with loss {eval_loss:.4f} (best: {best_loss:.4f})\")\n",
    "            break\n",
    "\n",
    "        \n"
   ]
  }
 ],
 "metadata": {
  "kernelspec": {
   "display_name": ".venv",
   "language": "python",
   "name": "python3"
  },
  "language_info": {
   "codemirror_mode": {
    "name": "ipython",
    "version": 3
   },
   "file_extension": ".py",
   "mimetype": "text/x-python",
   "name": "python",
   "nbconvert_exporter": "python",
   "pygments_lexer": "ipython3",
   "version": "3.11.0"
  }
 },
 "nbformat": 4,
 "nbformat_minor": 5
}
