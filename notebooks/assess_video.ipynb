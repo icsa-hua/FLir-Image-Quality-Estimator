{
 "cells": [
  {
   "cell_type": "code",
   "execution_count": 1,
   "id": "a2b3d99b",
   "metadata": {},
   "outputs": [
    {
     "name": "stdout",
     "output_type": "stream",
     "text": [
      "Video size: 640x512, FPS: 29.97002997002997, Smoothing window: 150, Threshold: 0.5\n"
     ]
    }
   ],
   "source": [
    "import sys, os\n",
    "sys.path.append(os.path.abspath(os.path.join(os.getcwd(), '..')))\n",
    "import cv2\n",
    "from fliqe import FLIQE\n",
    "import matplotlib.pyplot as plt\n",
    "from IPython.display import clear_output, display\n",
    "\n",
    "\n",
    "fliqe = FLIQE(encoder_model_path='../models/resnet50_128_out.pth', quality_model_path='../models/best_binary_classifier.pth', smoothing_window=150, threshold=0.5)\n",
    "cap = cv2.VideoCapture(\"../data/4.MP4\")\n",
    "cap.set(cv2.CAP_PROP_POS_FRAMES, 0)\n",
    "\n",
    "frame_count = int(cap.get(cv2.CAP_PROP_FRAME_COUNT))\n",
    "processed_frames = 0\n",
    "\n",
    "# --- Set up video writer ---\n",
    "output_path = \"output_video.mp4\"\n",
    "fps = cap.get(cv2.CAP_PROP_FPS)\n",
    "frame_width = int(cap.get(cv2.CAP_PROP_FRAME_WIDTH))\n",
    "frame_height = int(cap.get(cv2.CAP_PROP_FRAME_HEIGHT))\n",
    "print(f\"Video size: {frame_width}x{frame_height}, FPS: {fps}, Smoothing window: {fliqe.smoothing_window}, Threshold: {fliqe.threshold}\")\n",
    "\n",
    "fourcc = cv2.VideoWriter_fourcc(*'mp4v')  # or 'XVID' for .avi\n",
    "out = cv2.VideoWriter(output_path, fourcc, fps, (frame_width, frame_height))"
   ]
  },
  {
   "cell_type": "markdown",
   "id": "df2954be",
   "metadata": {},
   "source": [
    "Assessing original video"
   ]
  },
  {
   "cell_type": "code",
   "execution_count": null,
   "id": "330167a0",
   "metadata": {},
   "outputs": [],
   "source": [
    "while True:\n",
    "    ret, frame = cap.read()\n",
    "    if not ret:\n",
    "        break\n",
    "\n",
    "    # Compute FLIQE score\n",
    "    _ = fliqe.assess_image(frame)\n",
    "    processed_frames += 1\n",
    "\n",
    "    print( f\"Processed frame {processed_frames}/{frame_count}\", end=\"\\r\" )\n",
    "\n",
    "    # Annotate frame\n",
    "    annotated = frame.copy()\n",
    "    color = (0, 255, 0) if fliqe.smoothed_avg >= fliqe.threshold else (0, 0, 255)\n",
    "    cv2.putText(\n",
    "        annotated, f\"FLIQE: {fliqe.smoothed_avg:.2f}\", (10, 70),\n",
    "        cv2.FONT_HERSHEY_SIMPLEX, 1.0, color, 2, cv2.LINE_AA\n",
    "    )\n",
    "\n",
    "    # --- Save frame to video ---\n",
    "    out.write(annotated)\n",
    "\n",
    "    # Optional: still show in notebook\n",
    "    rgb = cv2.cvtColor(annotated, cv2.COLOR_BGR2RGB)\n",
    "    clear_output(wait=True)\n",
    "    plt.figure(figsize=(6,4))\n",
    "    plt.imshow(rgb)\n",
    "    plt.axis('off')\n",
    "    plt.title(f\"Frame: {processed_frames}/{frame_count}\\nFPS: {fps}\\nSmooth window: {fliqe.smoothing_window}\\nThreshold: {fliqe.threshold}\", loc='left')\n",
    "    display(plt.gcf())\n",
    "    plt.close()\n",
    "\n",
    "# --- Cleanup ---\n",
    "cap.release()\n",
    "out.release()\n",
    "print(f\"✅ Video saved as {output_path}\")"
   ]
  }
 ],
 "metadata": {
  "kernelspec": {
   "display_name": ".venv",
   "language": "python",
   "name": "python3"
  },
  "language_info": {
   "codemirror_mode": {
    "name": "ipython",
    "version": 3
   },
   "file_extension": ".py",
   "mimetype": "text/x-python",
   "name": "python",
   "nbconvert_exporter": "python",
   "pygments_lexer": "ipython3",
   "version": "3.11.0"
  }
 },
 "nbformat": 4,
 "nbformat_minor": 5
}
