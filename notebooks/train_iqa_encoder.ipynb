{
 "cells": [
  {
   "cell_type": "code",
   "execution_count": null,
   "id": "ac657da3",
   "metadata": {},
   "outputs": [],
   "source": [
    "## code to be transfered from __main__ of src/fliqe/models.py"
   ]
  }
 ],
 "metadata": {
  "language_info": {
   "name": "python"
  }
 },
 "nbformat": 4,
 "nbformat_minor": 5
}
